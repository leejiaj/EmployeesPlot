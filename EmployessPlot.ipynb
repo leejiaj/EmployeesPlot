{
 "cells": [
  {
   "cell_type": "code",
   "execution_count": 30,
   "metadata": {},
   "outputs": [],
   "source": [
    "# importing stuff\n",
    "import seaborn as sns\n",
    "import matplotlib.pyplot as plt\n",
    "plt.style.use('classic')\n",
    "%matplotlib inline"
   ]
  },
  {
   "cell_type": "code",
   "execution_count": 31,
   "metadata": {
    "collapsed": true
   },
   "outputs": [],
   "source": [
    "import pandas as pd"
   ]
  },
  {
   "cell_type": "code",
   "execution_count": 32,
   "metadata": {
    "collapsed": true
   },
   "outputs": [],
   "source": [
    "df = pd.read_csv('goldfile.csv')"
   ]
  },
  {
   "cell_type": "code",
   "execution_count": 33,
   "metadata": {},
   "outputs": [
    {
     "data": {
      "text/html": [
       "<div>\n",
       "<style>\n",
       "    .dataframe thead tr:only-child th {\n",
       "        text-align: right;\n",
       "    }\n",
       "\n",
       "    .dataframe thead th {\n",
       "        text-align: left;\n",
       "    }\n",
       "\n",
       "    .dataframe tbody tr th {\n",
       "        vertical-align: top;\n",
       "    }\n",
       "</style>\n",
       "<table border=\"1\" class=\"dataframe\">\n",
       "  <thead>\n",
       "    <tr style=\"text-align: right;\">\n",
       "      <th></th>\n",
       "      <th>Unnamed: 0</th>\n",
       "      <th>dataset_id</th>\n",
       "      <th>as_of_date</th>\n",
       "      <th>company_name</th>\n",
       "      <th>followers_count</th>\n",
       "      <th>employees_on_platform</th>\n",
       "      <th>link</th>\n",
       "      <th>industry</th>\n",
       "      <th>date_added</th>\n",
       "      <th>date_updated</th>\n",
       "      <th>description</th>\n",
       "      <th>website</th>\n",
       "      <th>entity_id</th>\n",
       "      <th>cusip</th>\n",
       "      <th>isin</th>\n",
       "    </tr>\n",
       "  </thead>\n",
       "  <tbody>\n",
       "    <tr>\n",
       "      <th>0</th>\n",
       "      <td>0</td>\n",
       "      <td>58329</td>\n",
       "      <td>2015-09-14</td>\n",
       "      <td>Goldman Sachs</td>\n",
       "      <td>552254</td>\n",
       "      <td>38124</td>\n",
       "      <td>https://www.linkedin.com/company/1382</td>\n",
       "      <td>Investment Banking</td>\n",
       "      <td>2015-09-14 00:00:00+00</td>\n",
       "      <td>2015-09-14 00:00:00+00</td>\n",
       "      <td>NaN</td>\n",
       "      <td>NaN</td>\n",
       "      <td>NaN</td>\n",
       "      <td>NaN</td>\n",
       "      <td>NaN</td>\n",
       "    </tr>\n",
       "    <tr>\n",
       "      <th>1</th>\n",
       "      <td>1</td>\n",
       "      <td>58329</td>\n",
       "      <td>2015-09-15</td>\n",
       "      <td>Goldman Sachs</td>\n",
       "      <td>552862</td>\n",
       "      <td>38141</td>\n",
       "      <td>https://www.linkedin.com/company/1382</td>\n",
       "      <td>Investment Banking</td>\n",
       "      <td>2015-09-15 00:00:00+00</td>\n",
       "      <td>2015-09-15 00:00:00+00</td>\n",
       "      <td>NaN</td>\n",
       "      <td>NaN</td>\n",
       "      <td>NaN</td>\n",
       "      <td>NaN</td>\n",
       "      <td>NaN</td>\n",
       "    </tr>\n",
       "    <tr>\n",
       "      <th>2</th>\n",
       "      <td>65</td>\n",
       "      <td>58329</td>\n",
       "      <td>2015-09-16</td>\n",
       "      <td>Goldman Sachs</td>\n",
       "      <td>553592</td>\n",
       "      <td>38145</td>\n",
       "      <td>https://www.linkedin.com/company/1382</td>\n",
       "      <td>Investment Banking</td>\n",
       "      <td>2015-09-16 00:00:00+00</td>\n",
       "      <td>2015-09-16 00:00:00+00</td>\n",
       "      <td>NaN</td>\n",
       "      <td>NaN</td>\n",
       "      <td>NaN</td>\n",
       "      <td>NaN</td>\n",
       "      <td>NaN</td>\n",
       "    </tr>\n",
       "    <tr>\n",
       "      <th>3</th>\n",
       "      <td>280</td>\n",
       "      <td>58329</td>\n",
       "      <td>2015-09-17</td>\n",
       "      <td>Goldman Sachs</td>\n",
       "      <td>554209</td>\n",
       "      <td>38143</td>\n",
       "      <td>https://www.linkedin.com/company/1382</td>\n",
       "      <td>Investment Banking</td>\n",
       "      <td>2015-09-17 00:00:00+00</td>\n",
       "      <td>2015-09-17 00:00:00+00</td>\n",
       "      <td>NaN</td>\n",
       "      <td>NaN</td>\n",
       "      <td>NaN</td>\n",
       "      <td>NaN</td>\n",
       "      <td>NaN</td>\n",
       "    </tr>\n",
       "    <tr>\n",
       "      <th>4</th>\n",
       "      <td>613</td>\n",
       "      <td>58329</td>\n",
       "      <td>2015-09-18</td>\n",
       "      <td>Goldman Sachs</td>\n",
       "      <td>554988</td>\n",
       "      <td>38130</td>\n",
       "      <td>https://www.linkedin.com/company/1382</td>\n",
       "      <td>Investment Banking</td>\n",
       "      <td>2015-09-18 00:00:00+00</td>\n",
       "      <td>2015-09-18 00:00:00+00</td>\n",
       "      <td>NaN</td>\n",
       "      <td>NaN</td>\n",
       "      <td>NaN</td>\n",
       "      <td>NaN</td>\n",
       "      <td>NaN</td>\n",
       "    </tr>\n",
       "  </tbody>\n",
       "</table>\n",
       "</div>"
      ],
      "text/plain": [
       "   Unnamed: 0  dataset_id  as_of_date   company_name  followers_count  \\\n",
       "0           0       58329  2015-09-14  Goldman Sachs           552254   \n",
       "1           1       58329  2015-09-15  Goldman Sachs           552862   \n",
       "2          65       58329  2015-09-16  Goldman Sachs           553592   \n",
       "3         280       58329  2015-09-17  Goldman Sachs           554209   \n",
       "4         613       58329  2015-09-18  Goldman Sachs           554988   \n",
       "\n",
       "   employees_on_platform                                   link  \\\n",
       "0                  38124  https://www.linkedin.com/company/1382   \n",
       "1                  38141  https://www.linkedin.com/company/1382   \n",
       "2                  38145  https://www.linkedin.com/company/1382   \n",
       "3                  38143  https://www.linkedin.com/company/1382   \n",
       "4                  38130  https://www.linkedin.com/company/1382   \n",
       "\n",
       "             industry              date_added            date_updated  \\\n",
       "0  Investment Banking  2015-09-14 00:00:00+00  2015-09-14 00:00:00+00   \n",
       "1  Investment Banking  2015-09-15 00:00:00+00  2015-09-15 00:00:00+00   \n",
       "2  Investment Banking  2015-09-16 00:00:00+00  2015-09-16 00:00:00+00   \n",
       "3  Investment Banking  2015-09-17 00:00:00+00  2015-09-17 00:00:00+00   \n",
       "4  Investment Banking  2015-09-18 00:00:00+00  2015-09-18 00:00:00+00   \n",
       "\n",
       "  description website  entity_id  cusip  isin  \n",
       "0         NaN     NaN        NaN    NaN   NaN  \n",
       "1         NaN     NaN        NaN    NaN   NaN  \n",
       "2         NaN     NaN        NaN    NaN   NaN  \n",
       "3         NaN     NaN        NaN    NaN   NaN  \n",
       "4         NaN     NaN        NaN    NaN   NaN  "
      ]
     },
     "execution_count": 33,
     "metadata": {},
     "output_type": "execute_result"
    }
   ],
   "source": [
    "df.head()"
   ]
  },
  {
   "cell_type": "code",
   "execution_count": 39,
   "metadata": {},
   "outputs": [
    {
     "name": "stderr",
     "output_type": "stream",
     "text": [
      "C:\\Users\\leeji\\Anaconda333\\lib\\site-packages\\scipy\\stats\\stats.py:1713: FutureWarning: Using a non-tuple sequence for multidimensional indexing is deprecated; use `arr[tuple(seq)]` instead of `arr[seq]`. In the future this will be interpreted as an array index, `arr[np.array(seq)]`, which will result either in an error or a different result.\n",
      "  return np.add.reduce(sorted[indexer] * weights, axis=axis) / sumval\n"
     ]
    },
    {
     "data": {
      "text/plain": [
       "<matplotlib.axes._subplots.AxesSubplot at 0x1cb14654ac8>"
      ]
     },
     "execution_count": 39,
     "metadata": {},
     "output_type": "execute_result"
    },
    {
     "data": {
      "image/png": "[encoded data removed]",
      "text/plain": [
       "<matplotlib.figure.Figure at 0x1cb14664c50>"
      ]
     },
     "metadata": {},
     "output_type": "display_data"
    }
   ],
   "source": [
    "sns.distplot(df['employees_on_platform'])"
   ]
  },
  {
   "cell_type": "code",
   "execution_count": 40,
   "metadata": {},
   "outputs": [
    {
     "data": {
      "text/plain": [
       "[<matplotlib.lines.Line2D at 0x1cb14804748>]"
      ]
     },
     "execution_count": 40,
     "metadata": {},
     "output_type": "execute_result"
    },
    {
     "data": {
      "image/png": "[encoded data removed]",
      "text/plain": [
       "<matplotlib.figure.Figure at 0x1cb147404a8>"
      ]
     },
     "metadata": {},
     "output_type": "display_data"
    }
   ],
   "source": [
    "plt.plot(df.iloc[:,0], df['employees_on_platform'])"
   ]
  },
  {
   "cell_type": "code",
   "execution_count": null,
   "metadata": {
    "collapsed": true
   },
   "outputs": [],
   "source": []
  }
 ],
 "metadata": {
  "kernelspec": {
   "display_name": "Python 3",
   "language": "python",
   "name": "python3"
  },
  "language_info": {
   "codemirror_mode": {
    "name": "ipython",
    "version": 3
   },
   "file_extension": ".py",
   "mimetype": "text/x-python",
   "name": "python",
   "nbconvert_exporter": "python",
   "pygments_lexer": "ipython3",
   "version": "3.6.1"
  }
 },
 "nbformat": 4,
 "nbformat_minor": 2
}
